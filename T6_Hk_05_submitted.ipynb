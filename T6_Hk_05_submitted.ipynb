{
 "cells": [
  {
   "cell_type": "markdown",
   "metadata": {
    "id": "PLl7dXr6quZo"
   },
   "source": [
    "# 0.0. IMPORTS\n"
   ]
  },
  {
   "cell_type": "code",
   "execution_count": 1,
   "metadata": {
    "ExecuteTime": {
     "end_time": "2023-08-26T14:12:03.709706Z",
     "start_time": "2023-08-26T14:12:01.138176Z"
    },
    "id": "Xbx18NfcrZln"
   },
   "outputs": [],
   "source": [
    "import pandas as pd\n",
    "import inflection\n",
    "import numpy as np\n",
    "import seaborn as sns\n",
    "import matplotlib.pyplot as plt\n",
    "from sklearn.preprocessing import LabelEncoder\n",
    "from sklearn.metrics import confusion_matrix\n",
    "\n",
    "from sklearn.model_selection import train_test_split\n",
    "from sklearn.linear_model    import LogisticRegression\n",
    "from sklearn.metrics         import accuracy_score\n",
    "from sklearn.ensemble        import RandomForestClassifier\n",
    "from sklearn.metrics         import precision_score, recall_score, f1_score\n",
    "from sklearn.tree            import DecisionTreeClassifier"
   ]
  },
  {
   "cell_type": "markdown",
   "metadata": {
    "id": "HcraCBMBrK5f"
   },
   "source": [
    "## 0.1.0 Helper Functions\n",
    "\n"
   ]
  },
  {
   "cell_type": "code",
   "execution_count": 2,
   "metadata": {
    "ExecuteTime": {
     "end_time": "2023-08-26T14:12:03.725144Z",
     "start_time": "2023-08-26T14:12:03.712666Z"
    },
    "id": "cDOmv-S0x78W"
   },
   "outputs": [],
   "source": [
    "# função pra avaliar o modelo\n",
    "def evaluate_models(models, X_test, y_test):\n",
    "    # Criação do DataFrame vazio\n",
    "    df = pd.DataFrame(columns=['Modelo', 'Precision', 'Recall', 'F1-score'])\n",
    "\n",
    "    # Loop sobre os modelos\n",
    "    for model in models:\n",
    "        # Previsões\n",
    "        y_pred = model.predict(X_test)\n",
    "\n",
    "        # Cálculo das métricas\n",
    "        precision = precision_score(y_test, y_pred)\n",
    "        recall = recall_score(y_test, y_pred)\n",
    "        acuracia = accuracy_score( y_test, y_pred)\n",
    "        f1 = f1_score(y_test, y_pred)\n",
    "\n",
    "        # Adição dos resultados ao DataFrame\n",
    "        df = df.append({'Modelo': model, 'Precision': precision, 'Recall': recall, 'F1-score': f1, 'acuracia' : acuracia },\n",
    "                       ignore_index=True)\n",
    "\n",
    "    return df"
   ]
  },
  {
   "cell_type": "markdown",
   "metadata": {
    "id": "ZMT3HeF7qrn6"
   },
   "source": [
    "## 0.2.0. Loading Data"
   ]
  },
  {
   "cell_type": "code",
   "execution_count": 3,
   "metadata": {
    "ExecuteTime": {
     "end_time": "2023-08-26T14:12:05.284494Z",
     "start_time": "2023-08-26T14:12:03.728136Z"
    },
    "id": "t3Zu6M6FrabH"
   },
   "outputs": [],
   "source": [
    "df_raw = pd.read_csv( 'https://raw.githubusercontent.com/OscarFantozzi/data_hk/main/train.csv' )\n",
    "df_test = pd.read_csv( 'https://raw.githubusercontent.com/OscarFantozzi/data_hk/main/test.csv' )"
   ]
  },
  {
   "cell_type": "markdown",
   "metadata": {
    "id": "uYzS_khNrX0P"
   },
   "source": [
    "# 1.0. PASSO 01 - DESCRIÇÃO DOS DADOS"
   ]
  },
  {
   "cell_type": "code",
   "execution_count": 4,
   "metadata": {
    "ExecuteTime": {
     "end_time": "2023-08-26T14:12:05.316202Z",
     "start_time": "2023-08-26T14:12:05.289516Z"
    },
    "id": "Gsl8VaOssjfQ"
   },
   "outputs": [],
   "source": [
    "df1 = df_raw.copy()"
   ]
  },
  {
   "cell_type": "markdown",
   "metadata": {
    "id": "GpqQ8yturkFw"
   },
   "source": [
    "## 1.0. Explicação das colunas"
   ]
  },
  {
   "cell_type": "markdown",
   "metadata": {
    "id": "9l0h-HODrvgh"
   },
   "source": [
    "- id: Código do cliente\n",
    "- gender: Genero msculino ou feminino\n",
    "- customer type: Tipo de cliente, fidelidade.\n",
    "- age: Idade cliente\n",
    "- type of purchase: Tipo de compra\n",
    "- store size: Tamanho da loja\n",
    "- store distance: Distância da loja em relação ao centro\n",
    "- in_store wifi: Satisfação do Wifi da loja\n",
    "- open/close time convenient: Horário de abertura e fechamento da loja.\n",
    "- easy of online shopping: Facilidade de compras on line\n",
    "- store location: Localização da loja\n",
    "- toilet cleaning:Limpeza do banheiro\n",
    "- dressing room:Provador\n",
    "- waiting room:Sala de espera\n",
    "- kids entertainment:Entretenimento infantil\n",
    "- seller service:Serviço do vendedor\n",
    "- showroom: Exposição dos produtos\n",
    "- self_store: Loja propria\n",
    "- purchase service: Serviço de compra\n",
    "- store service: Serviço da loja\n",
    "- cleanliness: limpeza da loja\n",
    "- carrier delay in minutes: Atraso da operadora em minutos\n",
    "- delivery delay in minutes: Demora na entrega em minutos\n",
    "- satisfaction: Stisfação do cliente."
   ]
  },
  {
   "cell_type": "markdown",
   "metadata": {
    "id": "Qz00wnlYrv7Q"
   },
   "source": [
    "## 1.1. Rename Columns"
   ]
  },
  {
   "cell_type": "code",
   "execution_count": 5,
   "metadata": {
    "ExecuteTime": {
     "end_time": "2023-08-26T14:12:05.347714Z",
     "start_time": "2023-08-26T14:12:05.319200Z"
    },
    "id": "iL_0k0EKrwhf"
   },
   "outputs": [],
   "source": [
    "## crio uma lista com o nome das colunas antigos\n",
    "cols_old = [ 'id','Gender','Customer Type','Age','Type of Purchase','Store size',\n",
    "            'Store distance','InStore wifi', 'Open/Close time convenient',\n",
    "            'Easy of online shopping','Store location','Toilet cleaning',\n",
    "            'Dressing room','Waiting room','Kids entertainment','Seller service',\n",
    "            'Showroom','Self-Store', 'Purchase service','Store Service',\n",
    "            'Cleanliness','Carrier delay in minutes','Delivery delay in minutes',\n",
    "             'satisfaction']\n",
    "\n",
    "# coloco as colunas no estilo snake_case\n",
    "snake_case = lambda x : inflection.underscore(x) # defino a lambda function\n",
    "\n",
    "# aplico o map para cada nome cols_old e crio a lista cols_new\n",
    "cols_new = list( map( snake_case, cols_old ) )\n",
    "\n",
    "# renomeio as coluanas do dataset\n",
    "df1.columns = cols_new"
   ]
  },
  {
   "cell_type": "code",
   "execution_count": 6,
   "metadata": {
    "ExecuteTime": {
     "end_time": "2023-08-26T14:12:05.363552Z",
     "start_time": "2023-08-26T14:12:05.349585Z"
    }
   },
   "outputs": [],
   "source": [
    "#Normatizando o nome das colunas\n",
    "df1.columns = [ 'id','gender','customer_Type','age','type_of_purchase','store_size',\n",
    "                'store_distance','inStore_wifi', 'open_close_time_convenient',\n",
    "                'easy_of_online_shopping','store_location','toilet_cleaning',\n",
    "                'dressing_room','waiting_room','kids_entertainment','seller_service',\n",
    "                'showroom','self_Store', 'purchase_service','store_service',\n",
    "                'cleanliness','carrier_delay_in_minutes','delivery_delay_in_minutes',\n",
    "                'satisfaction']"
   ]
  },
  {
   "cell_type": "markdown",
   "metadata": {
    "id": "s7sPAItvrzbn"
   },
   "source": [
    "## 1.2. Data Dimensions"
   ]
  },
  {
   "cell_type": "code",
   "execution_count": 7,
   "metadata": {
    "ExecuteTime": {
     "end_time": "2023-08-26T14:12:05.378548Z",
     "start_time": "2023-08-26T14:12:05.366549Z"
    },
    "id": "slEBpR7xr1oY"
   },
   "outputs": [
    {
     "name": "stdout",
     "output_type": "stream",
     "text": [
      "Number of rows 103904\n",
      "Number of columns 24\n"
     ]
    }
   ],
   "source": [
    "print( 'Number of rows {}'.format( df1.shape[0] ) )\n",
    "print( 'Number of columns {}'.format( df1.shape[1] ) )"
   ]
  },
  {
   "cell_type": "markdown",
   "metadata": {
    "id": "qPzFYLCxsAPW"
   },
   "source": [
    "## 1.3. Data Types"
   ]
  },
  {
   "cell_type": "code",
   "execution_count": 8,
   "metadata": {
    "ExecuteTime": {
     "end_time": "2023-08-26T14:12:05.394466Z",
     "start_time": "2023-08-26T14:12:05.381499Z"
    },
    "colab": {
     "base_uri": "https://localhost:8080/"
    },
    "id": "HETUPHTusBHn",
    "outputId": "a63c3345-7dd2-43e9-c54a-fd61217dbf11"
   },
   "outputs": [
    {
     "name": "stdout",
     "output_type": "stream",
     "text": [
      "id                              int64\n",
      "gender                         object\n",
      "customer_Type                  object\n",
      "age                             int64\n",
      "type_of_purchase               object\n",
      "store_size                     object\n",
      "store_distance                  int64\n",
      "inStore_wifi                    int64\n",
      "open_close_time_convenient      int64\n",
      "easy_of_online_shopping         int64\n",
      "store_location                  int64\n",
      "toilet_cleaning                 int64\n",
      "dressing_room                   int64\n",
      "waiting_room                    int64\n",
      "kids_entertainment              int64\n",
      "seller_service                  int64\n",
      "showroom                        int64\n",
      "self_Store                      int64\n",
      "purchase_service                int64\n",
      "store_service                   int64\n",
      "cleanliness                     int64\n",
      "carrier_delay_in_minutes        int64\n",
      "delivery_delay_in_minutes     float64\n",
      "satisfaction                   object\n",
      "dtype: object\n"
     ]
    }
   ],
   "source": [
    "# exibindo os tipos de dados\n",
    "print( df1.dtypes )"
   ]
  },
  {
   "cell_type": "markdown",
   "metadata": {
    "id": "X4dfYJSYsGeX"
   },
   "source": [
    "## 1.4. Check NA"
   ]
  },
  {
   "cell_type": "code",
   "execution_count": 9,
   "metadata": {
    "ExecuteTime": {
     "end_time": "2023-08-26T14:12:05.489575Z",
     "start_time": "2023-08-26T14:12:05.396460Z"
    },
    "colab": {
     "base_uri": "https://localhost:8080/"
    },
    "id": "BpNeCGN8sHPn",
    "outputId": "ad31a787-3831-4001-ecfd-e7a943de5287"
   },
   "outputs": [
    {
     "data": {
      "text/plain": [
       "id                              0\n",
       "gender                          0\n",
       "customer_Type                   0\n",
       "age                             0\n",
       "type_of_purchase                0\n",
       "store_size                      0\n",
       "store_distance                  0\n",
       "inStore_wifi                    0\n",
       "open_close_time_convenient      0\n",
       "easy_of_online_shopping         0\n",
       "store_location                  0\n",
       "toilet_cleaning                 0\n",
       "dressing_room                   0\n",
       "waiting_room                    0\n",
       "kids_entertainment              0\n",
       "seller_service                  0\n",
       "showroom                        0\n",
       "self_Store                      0\n",
       "purchase_service                0\n",
       "store_service                   0\n",
       "cleanliness                     0\n",
       "carrier_delay_in_minutes        0\n",
       "delivery_delay_in_minutes     310\n",
       "satisfaction                    0\n",
       "dtype: int64"
      ]
     },
     "execution_count": 9,
     "metadata": {},
     "output_type": "execute_result"
    }
   ],
   "source": [
    "df1.isna().sum()"
   ]
  },
  {
   "cell_type": "markdown",
   "metadata": {
    "id": "UPNTQbHosJPf"
   },
   "source": [
    "## 1.5. Fillout NA"
   ]
  },
  {
   "cell_type": "code",
   "execution_count": 10,
   "metadata": {
    "ExecuteTime": {
     "end_time": "2023-08-26T14:12:05.505490Z",
     "start_time": "2023-08-26T14:12:05.493521Z"
    },
    "id": "Vv2cyZHusJ2Y"
   },
   "outputs": [],
   "source": [
    "# Vini\n",
    "valor_medio = df1['delivery_delay_in_minutes'].mean()\n",
    "df1['delivery_delay_in_minutes'] = df1['delivery_delay_in_minutes'].fillna( valor_medio )"
   ]
  },
  {
   "cell_type": "markdown",
   "metadata": {
    "id": "HYRdpqyZsNMw"
   },
   "source": [
    "## 1.6. Change Types"
   ]
  },
  {
   "cell_type": "markdown",
   "metadata": {
    "id": "8NF5CEBHsqcv"
   },
   "source": []
  },
  {
   "cell_type": "code",
   "execution_count": 11,
   "metadata": {
    "ExecuteTime": {
     "end_time": "2023-08-26T14:12:05.537686Z",
     "start_time": "2023-08-26T14:12:05.508486Z"
    },
    "colab": {
     "base_uri": "https://localhost:8080/"
    },
    "id": "jq46L2bksPTn",
    "outputId": "dbac8a32-7218-404c-d8c1-1bdd42c10d94"
   },
   "outputs": [],
   "source": [
    "# verifico se durante a etapa de fill na os tipos de dados se mantiveram inalterados\n",
    "df1.dtypes\n",
    "df1['delivery_delay_in_minutes'] = df1['delivery_delay_in_minutes'].astype( int ) \n",
    "df1['delivery_delay_in_minutes'] = df1['delivery_delay_in_minutes'].astype( 'Int64' )"
   ]
  },
  {
   "cell_type": "markdown",
   "metadata": {
    "id": "FWASQH_QsU8X"
   },
   "source": [
    "## 1.7. Descriptive Statistical"
   ]
  },
  {
   "cell_type": "code",
   "execution_count": 12,
   "metadata": {
    "ExecuteTime": {
     "end_time": "2023-08-26T14:12:05.553660Z",
     "start_time": "2023-08-26T14:12:05.540656Z"
    },
    "id": "LdozhXXvsVuw"
   },
   "outputs": [],
   "source": [
    "# Vini\n",
    "# selecionando somente as variáveis numéricas\n",
    "num_attributes = df1.select_dtypes( include = ['int64','float64'] )\n",
    "\n",
    "# selecionando somente as variáveis categóricas\n",
    "cat_attributes = df1.select_dtypes( exclude = ['int64','float64'] )"
   ]
  },
  {
   "cell_type": "markdown",
   "metadata": {
    "id": "jvppqdu2sZCu"
   },
   "source": [
    "## 1.7.1 Numerical Attributes"
   ]
  },
  {
   "cell_type": "code",
   "execution_count": 13,
   "metadata": {
    "ExecuteTime": {
     "end_time": "2023-08-26T14:12:05.725792Z",
     "start_time": "2023-08-26T14:12:05.556614Z"
    },
    "colab": {
     "base_uri": "https://localhost:8080/",
     "height": 645
    },
    "id": "kjbRKGgesZjH",
    "outputId": "8debd64a-a9be-400a-cf6e-98f4c0ece6ae"
   },
   "outputs": [
    {
     "data": {
      "text/html": [
       "<div>\n",
       "<style scoped>\n",
       "    .dataframe tbody tr th:only-of-type {\n",
       "        vertical-align: middle;\n",
       "    }\n",
       "\n",
       "    .dataframe tbody tr th {\n",
       "        vertical-align: top;\n",
       "    }\n",
       "\n",
       "    .dataframe thead th {\n",
       "        text-align: right;\n",
       "    }\n",
       "</style>\n",
       "<table border=\"1\" class=\"dataframe\">\n",
       "  <thead>\n",
       "    <tr style=\"text-align: right;\">\n",
       "      <th></th>\n",
       "      <th>features</th>\n",
       "      <th>min</th>\n",
       "      <th>max</th>\n",
       "      <th>range</th>\n",
       "      <th>mean</th>\n",
       "      <th>median</th>\n",
       "      <th>std</th>\n",
       "      <th>skew</th>\n",
       "      <th>kurtosis</th>\n",
       "    </tr>\n",
       "  </thead>\n",
       "  <tbody>\n",
       "    <tr>\n",
       "      <th>0</th>\n",
       "      <td>id</td>\n",
       "      <td>1.0</td>\n",
       "      <td>129880.0</td>\n",
       "      <td>129879.0</td>\n",
       "      <td>64924.210502</td>\n",
       "      <td>64856.5</td>\n",
       "      <td>37463.631970</td>\n",
       "      <td>0.002864</td>\n",
       "      <td>-1.198440</td>\n",
       "    </tr>\n",
       "    <tr>\n",
       "      <th>1</th>\n",
       "      <td>age</td>\n",
       "      <td>7.0</td>\n",
       "      <td>85.0</td>\n",
       "      <td>78.0</td>\n",
       "      <td>39.379706</td>\n",
       "      <td>40.0</td>\n",
       "      <td>15.114891</td>\n",
       "      <td>-0.004516</td>\n",
       "      <td>-0.719568</td>\n",
       "    </tr>\n",
       "    <tr>\n",
       "      <th>2</th>\n",
       "      <td>store_distance</td>\n",
       "      <td>31.0</td>\n",
       "      <td>4983.0</td>\n",
       "      <td>4952.0</td>\n",
       "      <td>1189.448375</td>\n",
       "      <td>843.0</td>\n",
       "      <td>997.142482</td>\n",
       "      <td>1.109466</td>\n",
       "      <td>0.268535</td>\n",
       "    </tr>\n",
       "    <tr>\n",
       "      <th>3</th>\n",
       "      <td>inStore_wifi</td>\n",
       "      <td>0.0</td>\n",
       "      <td>5.0</td>\n",
       "      <td>5.0</td>\n",
       "      <td>2.729683</td>\n",
       "      <td>3.0</td>\n",
       "      <td>1.327823</td>\n",
       "      <td>0.040408</td>\n",
       "      <td>-0.846170</td>\n",
       "    </tr>\n",
       "    <tr>\n",
       "      <th>4</th>\n",
       "      <td>open_close_time_convenient</td>\n",
       "      <td>0.0</td>\n",
       "      <td>5.0</td>\n",
       "      <td>5.0</td>\n",
       "      <td>3.060296</td>\n",
       "      <td>3.0</td>\n",
       "      <td>1.525068</td>\n",
       "      <td>-0.334399</td>\n",
       "      <td>-1.037767</td>\n",
       "    </tr>\n",
       "    <tr>\n",
       "      <th>5</th>\n",
       "      <td>easy_of_online_shopping</td>\n",
       "      <td>0.0</td>\n",
       "      <td>5.0</td>\n",
       "      <td>5.0</td>\n",
       "      <td>2.756901</td>\n",
       "      <td>3.0</td>\n",
       "      <td>1.398923</td>\n",
       "      <td>-0.018294</td>\n",
       "      <td>-0.910346</td>\n",
       "    </tr>\n",
       "    <tr>\n",
       "      <th>6</th>\n",
       "      <td>store_location</td>\n",
       "      <td>0.0</td>\n",
       "      <td>5.0</td>\n",
       "      <td>5.0</td>\n",
       "      <td>2.976883</td>\n",
       "      <td>3.0</td>\n",
       "      <td>1.277615</td>\n",
       "      <td>-0.058889</td>\n",
       "      <td>-1.030283</td>\n",
       "    </tr>\n",
       "    <tr>\n",
       "      <th>7</th>\n",
       "      <td>toilet_cleaning</td>\n",
       "      <td>0.0</td>\n",
       "      <td>5.0</td>\n",
       "      <td>5.0</td>\n",
       "      <td>3.202129</td>\n",
       "      <td>3.0</td>\n",
       "      <td>1.329526</td>\n",
       "      <td>-0.151279</td>\n",
       "      <td>-1.145453</td>\n",
       "    </tr>\n",
       "    <tr>\n",
       "      <th>8</th>\n",
       "      <td>dressing_room</td>\n",
       "      <td>0.0</td>\n",
       "      <td>5.0</td>\n",
       "      <td>5.0</td>\n",
       "      <td>3.250375</td>\n",
       "      <td>3.0</td>\n",
       "      <td>1.349502</td>\n",
       "      <td>-0.453852</td>\n",
       "      <td>-0.702006</td>\n",
       "    </tr>\n",
       "    <tr>\n",
       "      <th>9</th>\n",
       "      <td>waiting_room</td>\n",
       "      <td>0.0</td>\n",
       "      <td>5.0</td>\n",
       "      <td>5.0</td>\n",
       "      <td>3.439396</td>\n",
       "      <td>4.0</td>\n",
       "      <td>1.319081</td>\n",
       "      <td>-0.482775</td>\n",
       "      <td>-0.925702</td>\n",
       "    </tr>\n",
       "    <tr>\n",
       "      <th>10</th>\n",
       "      <td>kids_entertainment</td>\n",
       "      <td>0.0</td>\n",
       "      <td>5.0</td>\n",
       "      <td>5.0</td>\n",
       "      <td>3.358158</td>\n",
       "      <td>4.0</td>\n",
       "      <td>1.332984</td>\n",
       "      <td>-0.365131</td>\n",
       "      <td>-1.060696</td>\n",
       "    </tr>\n",
       "    <tr>\n",
       "      <th>11</th>\n",
       "      <td>seller_service</td>\n",
       "      <td>0.0</td>\n",
       "      <td>5.0</td>\n",
       "      <td>5.0</td>\n",
       "      <td>3.382363</td>\n",
       "      <td>4.0</td>\n",
       "      <td>1.288348</td>\n",
       "      <td>-0.420031</td>\n",
       "      <td>-0.892335</td>\n",
       "    </tr>\n",
       "    <tr>\n",
       "      <th>12</th>\n",
       "      <td>showroom</td>\n",
       "      <td>0.0</td>\n",
       "      <td>5.0</td>\n",
       "      <td>5.0</td>\n",
       "      <td>3.351055</td>\n",
       "      <td>4.0</td>\n",
       "      <td>1.315598</td>\n",
       "      <td>-0.350231</td>\n",
       "      <td>-0.980257</td>\n",
       "    </tr>\n",
       "    <tr>\n",
       "      <th>13</th>\n",
       "      <td>self_Store</td>\n",
       "      <td>1.0</td>\n",
       "      <td>5.0</td>\n",
       "      <td>4.0</td>\n",
       "      <td>3.631833</td>\n",
       "      <td>4.0</td>\n",
       "      <td>1.180898</td>\n",
       "      <td>-0.677040</td>\n",
       "      <td>-0.387156</td>\n",
       "    </tr>\n",
       "    <tr>\n",
       "      <th>14</th>\n",
       "      <td>purchase_service</td>\n",
       "      <td>0.0</td>\n",
       "      <td>5.0</td>\n",
       "      <td>5.0</td>\n",
       "      <td>3.304290</td>\n",
       "      <td>3.0</td>\n",
       "      <td>1.265390</td>\n",
       "      <td>-0.364982</td>\n",
       "      <td>-0.828877</td>\n",
       "    </tr>\n",
       "    <tr>\n",
       "      <th>15</th>\n",
       "      <td>store_service</td>\n",
       "      <td>0.0</td>\n",
       "      <td>5.0</td>\n",
       "      <td>5.0</td>\n",
       "      <td>3.640428</td>\n",
       "      <td>4.0</td>\n",
       "      <td>1.175657</td>\n",
       "      <td>-0.690314</td>\n",
       "      <td>-0.357509</td>\n",
       "    </tr>\n",
       "    <tr>\n",
       "      <th>16</th>\n",
       "      <td>cleanliness</td>\n",
       "      <td>0.0</td>\n",
       "      <td>5.0</td>\n",
       "      <td>5.0</td>\n",
       "      <td>3.286351</td>\n",
       "      <td>3.0</td>\n",
       "      <td>1.312267</td>\n",
       "      <td>-0.300074</td>\n",
       "      <td>-1.012558</td>\n",
       "    </tr>\n",
       "    <tr>\n",
       "      <th>17</th>\n",
       "      <td>carrier_delay_in_minutes</td>\n",
       "      <td>0.0</td>\n",
       "      <td>1592.0</td>\n",
       "      <td>1592.0</td>\n",
       "      <td>14.815618</td>\n",
       "      <td>0.0</td>\n",
       "      <td>38.230717</td>\n",
       "      <td>6.733980</td>\n",
       "      <td>100.267006</td>\n",
       "    </tr>\n",
       "    <tr>\n",
       "      <th>18</th>\n",
       "      <td>delivery_delay_in_minutes</td>\n",
       "      <td>0.0</td>\n",
       "      <td>1584.0</td>\n",
       "      <td>1584.0</td>\n",
       "      <td>15.178145</td>\n",
       "      <td>0.0</td>\n",
       "      <td>38.640724</td>\n",
       "      <td>6.606540</td>\n",
       "      <td>94.829219</td>\n",
       "    </tr>\n",
       "  </tbody>\n",
       "</table>\n",
       "</div>"
      ],
      "text/plain": [
       "                      features   min       max     range          mean  \\\n",
       "0                           id   1.0  129880.0  129879.0  64924.210502   \n",
       "1                          age   7.0      85.0      78.0     39.379706   \n",
       "2               store_distance  31.0    4983.0    4952.0   1189.448375   \n",
       "3                 inStore_wifi   0.0       5.0       5.0      2.729683   \n",
       "4   open_close_time_convenient   0.0       5.0       5.0      3.060296   \n",
       "5      easy_of_online_shopping   0.0       5.0       5.0      2.756901   \n",
       "6               store_location   0.0       5.0       5.0      2.976883   \n",
       "7              toilet_cleaning   0.0       5.0       5.0      3.202129   \n",
       "8                dressing_room   0.0       5.0       5.0      3.250375   \n",
       "9                 waiting_room   0.0       5.0       5.0      3.439396   \n",
       "10          kids_entertainment   0.0       5.0       5.0      3.358158   \n",
       "11              seller_service   0.0       5.0       5.0      3.382363   \n",
       "12                    showroom   0.0       5.0       5.0      3.351055   \n",
       "13                  self_Store   1.0       5.0       4.0      3.631833   \n",
       "14            purchase_service   0.0       5.0       5.0      3.304290   \n",
       "15               store_service   0.0       5.0       5.0      3.640428   \n",
       "16                 cleanliness   0.0       5.0       5.0      3.286351   \n",
       "17    carrier_delay_in_minutes   0.0    1592.0    1592.0     14.815618   \n",
       "18   delivery_delay_in_minutes   0.0    1584.0    1584.0     15.178145   \n",
       "\n",
       "     median           std      skew    kurtosis  \n",
       "0   64856.5  37463.631970  0.002864   -1.198440  \n",
       "1      40.0     15.114891 -0.004516   -0.719568  \n",
       "2     843.0    997.142482  1.109466    0.268535  \n",
       "3       3.0      1.327823  0.040408   -0.846170  \n",
       "4       3.0      1.525068 -0.334399   -1.037767  \n",
       "5       3.0      1.398923 -0.018294   -0.910346  \n",
       "6       3.0      1.277615 -0.058889   -1.030283  \n",
       "7       3.0      1.329526 -0.151279   -1.145453  \n",
       "8       3.0      1.349502 -0.453852   -0.702006  \n",
       "9       4.0      1.319081 -0.482775   -0.925702  \n",
       "10      4.0      1.332984 -0.365131   -1.060696  \n",
       "11      4.0      1.288348 -0.420031   -0.892335  \n",
       "12      4.0      1.315598 -0.350231   -0.980257  \n",
       "13      4.0      1.180898 -0.677040   -0.387156  \n",
       "14      3.0      1.265390 -0.364982   -0.828877  \n",
       "15      4.0      1.175657 -0.690314   -0.357509  \n",
       "16      3.0      1.312267 -0.300074   -1.012558  \n",
       "17      0.0     38.230717  6.733980  100.267006  \n",
       "18      0.0     38.640724  6.606540   94.829219  "
      ]
     },
     "execution_count": 13,
     "metadata": {},
     "output_type": "execute_result"
    }
   ],
   "source": [
    "# Vini\n",
    "# Central tendency - mean, median\n",
    "ct1 = pd.DataFrame( num_attributes.apply( np.mean ) ).T # calculado a media das colunas -- aplica em todas colunas\n",
    "ct2 = pd.DataFrame( num_attributes.apply( np.median) ).T # calculando a mediana\n",
    "\n",
    "# Dispersion - std, min, max, range, skew, kurtosis\n",
    "d1 = pd.DataFrame( num_attributes.apply( np.std ) ).T # calculando o std\n",
    "d2 = pd.DataFrame( num_attributes.apply( np.min ) ).T # calculando o min\n",
    "d3 = pd.DataFrame( num_attributes.apply( np.max ) ).T # calculando o max\n",
    "d4 = pd.DataFrame( num_attributes.apply( lambda x: x.max() - x.min()  ) ).T # calcula o range\n",
    "d5 = pd.DataFrame( num_attributes.apply( lambda x: x.skew() ) ).T # calcula o skew\n",
    "d6 = pd.DataFrame( num_attributes.apply( lambda x: x.kurtosis() ) ).T # calcula o kurtosis\n",
    "\n",
    "# concatenate\n",
    "m = pd.concat( [d2,d3,d4,ct1,ct2,d1,d5,d6] ).T.reset_index()\n",
    "m.columns = ['features','min','max','range','mean','median','std','skew','kurtosis']\n",
    "m"
   ]
  },
  {
   "cell_type": "markdown",
   "metadata": {
    "id": "rwI-MjarscUf"
   },
   "source": [
    "## 1.7.2 Categorical Attributes"
   ]
  },
  {
   "cell_type": "code",
   "execution_count": 14,
   "metadata": {
    "ExecuteTime": {
     "end_time": "2023-08-26T14:12:05.805111Z",
     "start_time": "2023-08-26T14:12:05.728744Z"
    },
    "colab": {
     "base_uri": "https://localhost:8080/"
    },
    "id": "mXRFbhnOsdRH",
    "outputId": "7457785d-f9a0-44ac-96db-a7c709ea9130"
   },
   "outputs": [
    {
     "name": "stdout",
     "output_type": "stream",
     "text": [
      "gender              2\n",
      "customer_Type       2\n",
      "type_of_purchase    2\n",
      "store_size          3\n",
      "satisfaction        2\n",
      "dtype: int64\n",
      "gender                                       [Male, Female]\n",
      "customer_Type           [Loyal Customer, disloyal Customer]\n",
      "type_of_purchase                           [Personal, Gift]\n",
      "store_size                           [Small, Large, Medium]\n",
      "satisfaction        [Neutral or Dissatisfaction, Satisfied]\n",
      "dtype: object\n"
     ]
    }
   ],
   "source": [
    "# verifico quantos valores unicos tenho nos atributos categoricos\n",
    "print( cat_attributes.apply( lambda x: x.unique().shape[0] ) )\n",
    "\n",
    "# verifico os valores unicos tenho nos atributos categoricos\n",
    "print( cat_attributes.apply( lambda x: x.unique() ) )"
   ]
  },
  {
   "cell_type": "markdown",
   "metadata": {
    "id": "PBi2qLSCssPn"
   },
   "source": [
    "# 2.0. PASSO 2 - FEATURE ENGINEERING"
   ]
  },
  {
   "cell_type": "code",
   "execution_count": 15,
   "metadata": {
    "ExecuteTime": {
     "end_time": "2023-08-26T14:12:05.820658Z",
     "start_time": "2023-08-26T14:12:05.808119Z"
    },
    "id": "qSsWh_Los1Cn"
   },
   "outputs": [],
   "source": [
    "df2 = df1.copy()"
   ]
  },
  {
   "cell_type": "markdown",
   "metadata": {
    "id": "WBD1up0bs1hA"
   },
   "source": [
    "# 3.0. PASSO 3 - FILTRAGEM DE VARIÁVEIS"
   ]
  },
  {
   "cell_type": "code",
   "execution_count": 16,
   "metadata": {
    "ExecuteTime": {
     "end_time": "2023-08-26T14:12:05.852576Z",
     "start_time": "2023-08-26T14:12:05.822659Z"
    },
    "id": "MfNAOQnstMP_"
   },
   "outputs": [],
   "source": [
    "df3 = df2.copy()"
   ]
  },
  {
   "cell_type": "markdown",
   "metadata": {
    "id": "Qzd0GyJFr9xv"
   },
   "source": [
    "## 3.1. - Filtragem de Linhas"
   ]
  },
  {
   "cell_type": "code",
   "execution_count": null,
   "metadata": {
    "id": "JxGMwW2GtR3I"
   },
   "outputs": [],
   "source": []
  },
  {
   "cell_type": "code",
   "execution_count": null,
   "metadata": {
    "id": "8gq-WbictSCn"
   },
   "outputs": [],
   "source": []
  },
  {
   "cell_type": "markdown",
   "metadata": {
    "id": "t2VnVzOQtTj_"
   },
   "source": [
    "<!-- ## 3.2. - Filtragem de Colunas -->"
   ]
  },
  {
   "cell_type": "code",
   "execution_count": null,
   "metadata": {
    "id": "qsumpzUitUAX"
   },
   "outputs": [],
   "source": []
  },
  {
   "cell_type": "markdown",
   "metadata": {
    "id": "XeNbxuPItUD4"
   },
   "source": [
    "# 4.0. - ANÁLISE EXPLORATÓRIA DE DADOS"
   ]
  },
  {
   "cell_type": "markdown",
   "metadata": {
    "id": "O2LUyEm6tWhn"
   },
   "source": [
    "<!-- # 4.0. - PASSO 04 - ANALISE EXPLORATORIA DE DADOS -->"
   ]
  },
  {
   "cell_type": "code",
   "execution_count": 17,
   "metadata": {
    "ExecuteTime": {
     "end_time": "2023-08-26T14:12:05.882738Z",
     "start_time": "2023-08-26T14:12:05.857562Z"
    },
    "id": "LsSUpycItXJh"
   },
   "outputs": [],
   "source": [
    "df4 = df3.copy()"
   ]
  },
  {
   "cell_type": "code",
   "execution_count": 18,
   "metadata": {
    "ExecuteTime": {
     "end_time": "2023-08-26T14:12:05.898699Z",
     "start_time": "2023-08-26T14:12:05.885734Z"
    },
    "id": "bUqwXhuItZI_"
   },
   "outputs": [
    {
     "data": {
      "text/plain": [
       "Index(['id', 'gender', 'customer_Type', 'age', 'type_of_purchase',\n",
       "       'store_size', 'store_distance', 'inStore_wifi',\n",
       "       'open_close_time_convenient', 'easy_of_online_shopping',\n",
       "       'store_location', 'toilet_cleaning', 'dressing_room', 'waiting_room',\n",
       "       'kids_entertainment', 'seller_service', 'showroom', 'self_Store',\n",
       "       'purchase_service', 'store_service', 'cleanliness',\n",
       "       'carrier_delay_in_minutes', 'delivery_delay_in_minutes',\n",
       "       'satisfaction'],\n",
       "      dtype='object')"
      ]
     },
     "execution_count": 18,
     "metadata": {},
     "output_type": "execute_result"
    }
   ],
   "source": [
    "df4.columns"
   ]
  },
  {
   "cell_type": "markdown",
   "metadata": {
    "id": "7_a3onM1tZ7v"
   },
   "source": [
    "## 4.1. - Analise Univariada"
   ]
  },
  {
   "cell_type": "code",
   "execution_count": null,
   "metadata": {
    "id": "1QuigjqItaXX"
   },
   "outputs": [],
   "source": []
  },
  {
   "cell_type": "markdown",
   "metadata": {
    "id": "W3smBtm8td3H"
   },
   "source": [
    "### 4.1.1 - Response Variable"
   ]
  },
  {
   "cell_type": "code",
   "execution_count": 19,
   "metadata": {
    "ExecuteTime": {
     "end_time": "2023-08-26T14:12:06.231631Z",
     "start_time": "2023-08-26T14:12:05.904721Z"
    },
    "id": "ctcmogtWteUv"
   },
   "outputs": [
    {
     "data": {
      "image/png": "[encoded data removed]",
      "text/plain": [
       "<Figure size 500x500 with 1 Axes>"
      ]
     },
     "metadata": {},
     "output_type": "display_data"
    }
   ],
   "source": [
    "sns.displot( df4['satisfaction'] );\n",
    "plt.show()"
   ]
  },
  {
   "cell_type": "markdown",
   "metadata": {
    "id": "nCncgA4GtfsX"
   },
   "source": [
    "### 4.1.2 - Numerical Variable"
   ]
  },
  {
   "cell_type": "code",
   "execution_count": 20,
   "metadata": {
    "ExecuteTime": {
     "end_time": "2023-08-26T14:12:08.390959Z",
     "start_time": "2023-08-26T14:12:06.233631Z"
    },
    "id": "qdxfD9-XtiXf"
   },
   "outputs": [
    {
     "data": {
      "image/png": "[encoded data removed]",
      "text/plain": [
       "<Figure size 1500x1500 with 20 Axes>"
      ]
     },
     "metadata": {},
     "output_type": "display_data"
    }
   ],
   "source": [
    "num_attributes.hist( bins = 15 , figsize = ( 15,15 ) );\n",
    "plt.show()"
   ]
  },
  {
   "cell_type": "markdown",
   "metadata": {
    "id": "qtRAS1Uztkyv"
   },
   "source": [
    "### 4.1.3 - Categorical Variable"
   ]
  },
  {
   "cell_type": "code",
   "execution_count": null,
   "metadata": {
    "id": "YF73u4PytlIH"
   },
   "outputs": [],
   "source": []
  },
  {
   "cell_type": "markdown",
   "metadata": {
    "id": "NunwepP4tnVu"
   },
   "source": []
  },
  {
   "cell_type": "markdown",
   "metadata": {
    "id": "ajimAX3ftnlv"
   },
   "source": [
    "## 4.2. - Análise Bivariada"
   ]
  },
  {
   "cell_type": "code",
   "execution_count": null,
   "metadata": {
    "id": "26X8uUAStoDX"
   },
   "outputs": [],
   "source": []
  },
  {
   "cell_type": "markdown",
   "metadata": {
    "id": "O8VE6UiBttOP"
   },
   "source": [
    "## 4.3. - Analise Multivariada"
   ]
  },
  {
   "cell_type": "code",
   "execution_count": null,
   "metadata": {
    "id": "h8psSo9btx4H"
   },
   "outputs": [],
   "source": []
  },
  {
   "cell_type": "markdown",
   "metadata": {
    "id": "7WmJDZU8tyNP"
   },
   "source": [
    "### 4.3.1 - Numerical Attributes"
   ]
  },
  {
   "cell_type": "code",
   "execution_count": null,
   "metadata": {
    "id": "ZuEwbdgftynA"
   },
   "outputs": [],
   "source": []
  },
  {
   "cell_type": "markdown",
   "metadata": {
    "id": "Deq38h0nt7TS"
   },
   "source": [
    "### 4.3.2 - Categorical Attributes"
   ]
  },
  {
   "cell_type": "code",
   "execution_count": null,
   "metadata": {
    "id": "ow0hTiyot7to"
   },
   "outputs": [],
   "source": []
  },
  {
   "cell_type": "code",
   "execution_count": null,
   "metadata": {
    "ExecuteTime": {
     "end_time": "2023-07-15T16:14:28.272097Z",
     "start_time": "2023-07-15T16:14:28.257097Z"
    },
    "id": "aShnxTQYuIdv"
   },
   "outputs": [],
   "source": []
  },
  {
   "cell_type": "code",
   "execution_count": null,
   "metadata": {
    "ExecuteTime": {
     "end_time": "2023-07-15T16:14:32.592022Z",
     "start_time": "2023-07-15T16:14:32.577536Z"
    },
    "id": "jItsBWk4uLdR"
   },
   "outputs": [],
   "source": []
  },
  {
   "cell_type": "markdown",
   "metadata": {},
   "source": [
    "# 5.0. - PASSO 05 - DATA PREPARATION"
   ]
  },
  {
   "cell_type": "code",
   "execution_count": 21,
   "metadata": {
    "ExecuteTime": {
     "end_time": "2023-08-26T14:12:08.421917Z",
     "start_time": "2023-08-26T14:12:08.394950Z"
    }
   },
   "outputs": [],
   "source": [
    "df5 = df4.copy()"
   ]
  },
  {
   "cell_type": "markdown",
   "metadata": {
    "id": "4bPj4G0IuLrv"
   },
   "source": [
    "## 5.1. - Normalização"
   ]
  },
  {
   "cell_type": "code",
   "execution_count": 22,
   "metadata": {
    "ExecuteTime": {
     "end_time": "2023-08-26T14:12:08.437363Z",
     "start_time": "2023-08-26T14:12:08.425874Z"
    },
    "id": "0kX0P9p0uMDw"
   },
   "outputs": [
    {
     "data": {
      "text/plain": [
       "Index(['id', 'gender', 'customer_Type', 'age', 'type_of_purchase',\n",
       "       'store_size', 'store_distance', 'inStore_wifi',\n",
       "       'open_close_time_convenient', 'easy_of_online_shopping',\n",
       "       'store_location', 'toilet_cleaning', 'dressing_room', 'waiting_room',\n",
       "       'kids_entertainment', 'seller_service', 'showroom', 'self_Store',\n",
       "       'purchase_service', 'store_service', 'cleanliness',\n",
       "       'carrier_delay_in_minutes', 'delivery_delay_in_minutes',\n",
       "       'satisfaction'],\n",
       "      dtype='object')"
      ]
     },
     "execution_count": 22,
     "metadata": {},
     "output_type": "execute_result"
    }
   ],
   "source": [
    "df2.columns"
   ]
  },
  {
   "cell_type": "code",
   "execution_count": 23,
   "metadata": {
    "ExecuteTime": {
     "end_time": "2023-08-26T14:12:08.737786Z",
     "start_time": "2023-08-26T14:12:08.442349Z"
    },
    "id": "Hm6v4sDquN4Y"
   },
   "outputs": [
    {
     "data": {
      "image/png": "[encoded data removed]",
      "text/plain": [
       "<Figure size 640x480 with 1 Axes>"
      ]
     },
     "metadata": {},
     "output_type": "display_data"
    }
   ],
   "source": [
    "df = df2.groupby( ['dressing_room','satisfaction'] ).size().reset_index()\n",
    "df.columns = ['dressing_room','satisfaction','qtde']\n",
    "df['%'] = df['qtde'] / df['qtde'].sum()\n",
    "sns.barplot( data = df , x = 'satisfaction', y = 'qtde', hue = 'dressing_room')\n",
    "plt.show()"
   ]
  },
  {
   "cell_type": "markdown",
   "metadata": {
    "id": "7dL1zmKYuOAQ"
   },
   "source": [
    "## 5.2. - Rescaling"
   ]
  },
  {
   "cell_type": "code",
   "execution_count": 24,
   "metadata": {
    "ExecuteTime": {
     "end_time": "2023-08-26T14:12:08.752979Z",
     "start_time": "2023-08-26T14:12:08.740779Z"
    },
    "id": "n_lDKB0buOeI"
   },
   "outputs": [
    {
     "data": {
      "text/plain": [
       "(103904, 24)"
      ]
     },
     "execution_count": 24,
     "metadata": {},
     "output_type": "execute_result"
    }
   ],
   "source": [
    "df2.shape"
   ]
  },
  {
   "cell_type": "markdown",
   "metadata": {
    "id": "lUIDPCxIuQUH"
   },
   "source": [
    "## 5.3. - Transformação"
   ]
  },
  {
   "cell_type": "code",
   "execution_count": null,
   "metadata": {
    "id": "5EjxflmMuQyo"
   },
   "outputs": [],
   "source": []
  },
  {
   "cell_type": "code",
   "execution_count": null,
   "metadata": {
    "id": "jwXoHp8yuRbo"
   },
   "outputs": [],
   "source": []
  },
  {
   "cell_type": "markdown",
   "metadata": {
    "id": "DnS4ksq9uRoI"
   },
   "source": [
    "### 5.3.1 - Encoding"
   ]
  },
  {
   "cell_type": "code",
   "execution_count": 25,
   "metadata": {
    "ExecuteTime": {
     "end_time": "2023-08-26T14:12:08.832431Z",
     "start_time": "2023-08-26T14:12:08.754966Z"
    },
    "id": "WWUz4LaSuXxm"
   },
   "outputs": [],
   "source": [
    "# one hot encoding gender\n",
    "df5 = pd.get_dummies(df5, columns=['gender'])"
   ]
  },
  {
   "cell_type": "code",
   "execution_count": 26,
   "metadata": {
    "ExecuteTime": {
     "end_time": "2023-08-26T14:12:08.911717Z",
     "start_time": "2023-08-26T14:12:08.834446Z"
    }
   },
   "outputs": [],
   "source": [
    "# one hot encoding customer_Type\n",
    "df5 = pd.get_dummies(df5, columns=['customer_Type'])"
   ]
  },
  {
   "cell_type": "code",
   "execution_count": 27,
   "metadata": {
    "ExecuteTime": {
     "end_time": "2023-08-26T14:12:08.975262Z",
     "start_time": "2023-08-26T14:12:08.913720Z"
    }
   },
   "outputs": [],
   "source": [
    "# one hot encoding customer_Type\n",
    "df5 = pd.get_dummies(df5, columns=['type_of_purchase'])"
   ]
  },
  {
   "cell_type": "code",
   "execution_count": 28,
   "metadata": {
    "ExecuteTime": {
     "end_time": "2023-08-26T14:12:09.007010Z",
     "start_time": "2023-08-26T14:12:08.981116Z"
    }
   },
   "outputs": [],
   "source": [
    "# label encoder\n",
    "label_encoder = LabelEncoder()\n",
    "df5['store_size'] = label_encoder.fit_transform(df5['store_size'])"
   ]
  },
  {
   "cell_type": "code",
   "execution_count": 29,
   "metadata": {
    "ExecuteTime": {
     "end_time": "2023-08-26T14:12:09.054391Z",
     "start_time": "2023-08-26T14:12:09.009002Z"
    }
   },
   "outputs": [],
   "source": [
    "# satisfaction - variavel resposta\n",
    "df5['satisfaction'] = df5['satisfaction'].apply( lambda x: 1 if x =='Satisfied' else\n",
    "                                                             0 if 'Neutral or Dissatisfaction' else x)"
   ]
  },
  {
   "cell_type": "markdown",
   "metadata": {
    "id": "WHJW5QK_uX5G"
   },
   "source": [
    "### 5.3.2 - Response Variable Transformation"
   ]
  },
  {
   "cell_type": "code",
   "execution_count": null,
   "metadata": {
    "id": "ZUCHpdELuYcn"
   },
   "outputs": [],
   "source": []
  },
  {
   "cell_type": "code",
   "execution_count": null,
   "metadata": {
    "id": "xYhpaOXTuaY_"
   },
   "outputs": [],
   "source": []
  },
  {
   "cell_type": "markdown",
   "metadata": {
    "id": "vor-4qq-uaef"
   },
   "source": [
    "### 5.3.2 Nature Transformation"
   ]
  },
  {
   "cell_type": "code",
   "execution_count": null,
   "metadata": {
    "id": "84ehSJueuay3"
   },
   "outputs": [],
   "source": []
  },
  {
   "cell_type": "markdown",
   "metadata": {
    "id": "DXlGjlO2uiWn"
   },
   "source": [
    "# 6.0. - PASSO 06 - FEATURE SELECTION"
   ]
  },
  {
   "cell_type": "code",
   "execution_count": 30,
   "metadata": {
    "ExecuteTime": {
     "end_time": "2023-08-26T14:12:09.085549Z",
     "start_time": "2023-08-26T14:12:09.057384Z"
    },
    "id": "CsFoJzNMuiy_"
   },
   "outputs": [],
   "source": [
    "df6 = df5.copy()"
   ]
  },
  {
   "cell_type": "code",
   "execution_count": null,
   "metadata": {
    "id": "x5oCSAHeujDP"
   },
   "outputs": [],
   "source": []
  },
  {
   "cell_type": "code",
   "execution_count": null,
   "metadata": {
    "id": "Ge6nKQi3ul3A"
   },
   "outputs": [],
   "source": []
  },
  {
   "cell_type": "code",
   "execution_count": null,
   "metadata": {
    "id": "BLRJ6ewLur4w"
   },
   "outputs": [],
   "source": []
  },
  {
   "cell_type": "markdown",
   "metadata": {
    "id": "AIhg7HGAusAI"
   },
   "source": [
    "## 6.1. - Boruta as Feature Selector"
   ]
  },
  {
   "cell_type": "code",
   "execution_count": null,
   "metadata": {
    "id": "KHJukFY9NsWw"
   },
   "outputs": [],
   "source": []
  },
  {
   "cell_type": "code",
   "execution_count": null,
   "metadata": {
    "id": "VUyLqw09ushY"
   },
   "outputs": [],
   "source": []
  },
  {
   "cell_type": "code",
   "execution_count": null,
   "metadata": {
    "id": "69sHPG6fuuQI"
   },
   "outputs": [],
   "source": []
  },
  {
   "cell_type": "markdown",
   "metadata": {
    "id": "nNCpCkCzuuWY"
   },
   "source": [
    "## 6.2. - Manual Feature Selection"
   ]
  },
  {
   "cell_type": "code",
   "execution_count": null,
   "metadata": {
    "id": "itQOb8f0NtYo"
   },
   "outputs": [],
   "source": []
  },
  {
   "cell_type": "code",
   "execution_count": null,
   "metadata": {
    "id": "NE0p4TxBuuqg"
   },
   "outputs": [],
   "source": []
  },
  {
   "cell_type": "code",
   "execution_count": null,
   "metadata": {
    "id": "x_qCtQFya5x9"
   },
   "outputs": [],
   "source": []
  },
  {
   "cell_type": "markdown",
   "metadata": {
    "id": "9jQxbp7Cu9tX"
   },
   "source": [
    "# 7.0. - PASSO 07 - MACHINE LEARNING MODELLING"
   ]
  },
  {
   "cell_type": "code",
   "execution_count": 31,
   "metadata": {
    "ExecuteTime": {
     "end_time": "2023-08-26T14:12:09.101140Z",
     "start_time": "2023-08-26T14:12:09.089536Z"
    },
    "id": "vL7oXgTUu-Dx"
   },
   "outputs": [],
   "source": [
    "df7 = df6.copy()"
   ]
  },
  {
   "cell_type": "code",
   "execution_count": 32,
   "metadata": {
    "ExecuteTime": {
     "end_time": "2023-08-26T14:12:09.164296Z",
     "start_time": "2023-08-26T14:12:09.104147Z"
    }
   },
   "outputs": [
    {
     "data": {
      "text/html": [
       "<div>\n",
       "<style scoped>\n",
       "    .dataframe tbody tr th:only-of-type {\n",
       "        vertical-align: middle;\n",
       "    }\n",
       "\n",
       "    .dataframe tbody tr th {\n",
       "        vertical-align: top;\n",
       "    }\n",
       "\n",
       "    .dataframe thead th {\n",
       "        text-align: right;\n",
       "    }\n",
       "</style>\n",
       "<table border=\"1\" class=\"dataframe\">\n",
       "  <thead>\n",
       "    <tr style=\"text-align: right;\">\n",
       "      <th></th>\n",
       "      <th>id</th>\n",
       "      <th>age</th>\n",
       "      <th>store_size</th>\n",
       "      <th>store_distance</th>\n",
       "      <th>inStore_wifi</th>\n",
       "      <th>open_close_time_convenient</th>\n",
       "      <th>easy_of_online_shopping</th>\n",
       "      <th>store_location</th>\n",
       "      <th>toilet_cleaning</th>\n",
       "      <th>dressing_room</th>\n",
       "      <th>...</th>\n",
       "      <th>cleanliness</th>\n",
       "      <th>carrier_delay_in_minutes</th>\n",
       "      <th>delivery_delay_in_minutes</th>\n",
       "      <th>satisfaction</th>\n",
       "      <th>gender_Female</th>\n",
       "      <th>gender_Male</th>\n",
       "      <th>customer_Type_Loyal Customer</th>\n",
       "      <th>customer_Type_disloyal Customer</th>\n",
       "      <th>type_of_purchase_Gift</th>\n",
       "      <th>type_of_purchase_Personal</th>\n",
       "    </tr>\n",
       "  </thead>\n",
       "  <tbody>\n",
       "    <tr>\n",
       "      <th>0</th>\n",
       "      <td>70172</td>\n",
       "      <td>13</td>\n",
       "      <td>2</td>\n",
       "      <td>460</td>\n",
       "      <td>3</td>\n",
       "      <td>4</td>\n",
       "      <td>3</td>\n",
       "      <td>1</td>\n",
       "      <td>5</td>\n",
       "      <td>3</td>\n",
       "      <td>...</td>\n",
       "      <td>5</td>\n",
       "      <td>25</td>\n",
       "      <td>18</td>\n",
       "      <td>0</td>\n",
       "      <td>0</td>\n",
       "      <td>1</td>\n",
       "      <td>1</td>\n",
       "      <td>0</td>\n",
       "      <td>0</td>\n",
       "      <td>1</td>\n",
       "    </tr>\n",
       "    <tr>\n",
       "      <th>1</th>\n",
       "      <td>5047</td>\n",
       "      <td>25</td>\n",
       "      <td>0</td>\n",
       "      <td>235</td>\n",
       "      <td>3</td>\n",
       "      <td>2</td>\n",
       "      <td>3</td>\n",
       "      <td>3</td>\n",
       "      <td>1</td>\n",
       "      <td>3</td>\n",
       "      <td>...</td>\n",
       "      <td>1</td>\n",
       "      <td>1</td>\n",
       "      <td>6</td>\n",
       "      <td>0</td>\n",
       "      <td>0</td>\n",
       "      <td>1</td>\n",
       "      <td>0</td>\n",
       "      <td>1</td>\n",
       "      <td>1</td>\n",
       "      <td>0</td>\n",
       "    </tr>\n",
       "    <tr>\n",
       "      <th>2</th>\n",
       "      <td>110028</td>\n",
       "      <td>26</td>\n",
       "      <td>0</td>\n",
       "      <td>1142</td>\n",
       "      <td>2</td>\n",
       "      <td>2</td>\n",
       "      <td>2</td>\n",
       "      <td>2</td>\n",
       "      <td>5</td>\n",
       "      <td>5</td>\n",
       "      <td>...</td>\n",
       "      <td>5</td>\n",
       "      <td>0</td>\n",
       "      <td>0</td>\n",
       "      <td>1</td>\n",
       "      <td>1</td>\n",
       "      <td>0</td>\n",
       "      <td>1</td>\n",
       "      <td>0</td>\n",
       "      <td>1</td>\n",
       "      <td>0</td>\n",
       "    </tr>\n",
       "    <tr>\n",
       "      <th>3</th>\n",
       "      <td>24026</td>\n",
       "      <td>25</td>\n",
       "      <td>0</td>\n",
       "      <td>562</td>\n",
       "      <td>2</td>\n",
       "      <td>5</td>\n",
       "      <td>5</td>\n",
       "      <td>5</td>\n",
       "      <td>2</td>\n",
       "      <td>2</td>\n",
       "      <td>...</td>\n",
       "      <td>2</td>\n",
       "      <td>11</td>\n",
       "      <td>9</td>\n",
       "      <td>0</td>\n",
       "      <td>1</td>\n",
       "      <td>0</td>\n",
       "      <td>1</td>\n",
       "      <td>0</td>\n",
       "      <td>1</td>\n",
       "      <td>0</td>\n",
       "    </tr>\n",
       "    <tr>\n",
       "      <th>4</th>\n",
       "      <td>119299</td>\n",
       "      <td>61</td>\n",
       "      <td>0</td>\n",
       "      <td>214</td>\n",
       "      <td>3</td>\n",
       "      <td>3</td>\n",
       "      <td>3</td>\n",
       "      <td>3</td>\n",
       "      <td>4</td>\n",
       "      <td>5</td>\n",
       "      <td>...</td>\n",
       "      <td>3</td>\n",
       "      <td>0</td>\n",
       "      <td>0</td>\n",
       "      <td>1</td>\n",
       "      <td>0</td>\n",
       "      <td>1</td>\n",
       "      <td>1</td>\n",
       "      <td>0</td>\n",
       "      <td>1</td>\n",
       "      <td>0</td>\n",
       "    </tr>\n",
       "    <tr>\n",
       "      <th>...</th>\n",
       "      <td>...</td>\n",
       "      <td>...</td>\n",
       "      <td>...</td>\n",
       "      <td>...</td>\n",
       "      <td>...</td>\n",
       "      <td>...</td>\n",
       "      <td>...</td>\n",
       "      <td>...</td>\n",
       "      <td>...</td>\n",
       "      <td>...</td>\n",
       "      <td>...</td>\n",
       "      <td>...</td>\n",
       "      <td>...</td>\n",
       "      <td>...</td>\n",
       "      <td>...</td>\n",
       "      <td>...</td>\n",
       "      <td>...</td>\n",
       "      <td>...</td>\n",
       "      <td>...</td>\n",
       "      <td>...</td>\n",
       "      <td>...</td>\n",
       "    </tr>\n",
       "    <tr>\n",
       "      <th>103899</th>\n",
       "      <td>94171</td>\n",
       "      <td>23</td>\n",
       "      <td>1</td>\n",
       "      <td>192</td>\n",
       "      <td>2</td>\n",
       "      <td>1</td>\n",
       "      <td>2</td>\n",
       "      <td>3</td>\n",
       "      <td>2</td>\n",
       "      <td>2</td>\n",
       "      <td>...</td>\n",
       "      <td>2</td>\n",
       "      <td>3</td>\n",
       "      <td>0</td>\n",
       "      <td>0</td>\n",
       "      <td>1</td>\n",
       "      <td>0</td>\n",
       "      <td>0</td>\n",
       "      <td>1</td>\n",
       "      <td>1</td>\n",
       "      <td>0</td>\n",
       "    </tr>\n",
       "    <tr>\n",
       "      <th>103900</th>\n",
       "      <td>73097</td>\n",
       "      <td>49</td>\n",
       "      <td>0</td>\n",
       "      <td>2347</td>\n",
       "      <td>4</td>\n",
       "      <td>4</td>\n",
       "      <td>4</td>\n",
       "      <td>4</td>\n",
       "      <td>2</td>\n",
       "      <td>4</td>\n",
       "      <td>...</td>\n",
       "      <td>4</td>\n",
       "      <td>0</td>\n",
       "      <td>0</td>\n",
       "      <td>1</td>\n",
       "      <td>0</td>\n",
       "      <td>1</td>\n",
       "      <td>1</td>\n",
       "      <td>0</td>\n",
       "      <td>1</td>\n",
       "      <td>0</td>\n",
       "    </tr>\n",
       "    <tr>\n",
       "      <th>103901</th>\n",
       "      <td>68825</td>\n",
       "      <td>30</td>\n",
       "      <td>0</td>\n",
       "      <td>1995</td>\n",
       "      <td>1</td>\n",
       "      <td>1</td>\n",
       "      <td>1</td>\n",
       "      <td>3</td>\n",
       "      <td>4</td>\n",
       "      <td>1</td>\n",
       "      <td>...</td>\n",
       "      <td>4</td>\n",
       "      <td>7</td>\n",
       "      <td>14</td>\n",
       "      <td>0</td>\n",
       "      <td>0</td>\n",
       "      <td>1</td>\n",
       "      <td>0</td>\n",
       "      <td>1</td>\n",
       "      <td>1</td>\n",
       "      <td>0</td>\n",
       "    </tr>\n",
       "    <tr>\n",
       "      <th>103902</th>\n",
       "      <td>54173</td>\n",
       "      <td>22</td>\n",
       "      <td>1</td>\n",
       "      <td>1000</td>\n",
       "      <td>1</td>\n",
       "      <td>1</td>\n",
       "      <td>1</td>\n",
       "      <td>5</td>\n",
       "      <td>1</td>\n",
       "      <td>1</td>\n",
       "      <td>...</td>\n",
       "      <td>1</td>\n",
       "      <td>0</td>\n",
       "      <td>0</td>\n",
       "      <td>0</td>\n",
       "      <td>1</td>\n",
       "      <td>0</td>\n",
       "      <td>0</td>\n",
       "      <td>1</td>\n",
       "      <td>1</td>\n",
       "      <td>0</td>\n",
       "    </tr>\n",
       "    <tr>\n",
       "      <th>103903</th>\n",
       "      <td>62567</td>\n",
       "      <td>27</td>\n",
       "      <td>0</td>\n",
       "      <td>1723</td>\n",
       "      <td>1</td>\n",
       "      <td>3</td>\n",
       "      <td>3</td>\n",
       "      <td>3</td>\n",
       "      <td>1</td>\n",
       "      <td>1</td>\n",
       "      <td>...</td>\n",
       "      <td>1</td>\n",
       "      <td>0</td>\n",
       "      <td>0</td>\n",
       "      <td>0</td>\n",
       "      <td>0</td>\n",
       "      <td>1</td>\n",
       "      <td>1</td>\n",
       "      <td>0</td>\n",
       "      <td>1</td>\n",
       "      <td>0</td>\n",
       "    </tr>\n",
       "  </tbody>\n",
       "</table>\n",
       "<p>103904 rows × 27 columns</p>\n",
       "</div>"
      ],
      "text/plain": [
       "            id  age  store_size  store_distance  inStore_wifi  \\\n",
       "0        70172   13           2             460             3   \n",
       "1         5047   25           0             235             3   \n",
       "2       110028   26           0            1142             2   \n",
       "3        24026   25           0             562             2   \n",
       "4       119299   61           0             214             3   \n",
       "...        ...  ...         ...             ...           ...   \n",
       "103899   94171   23           1             192             2   \n",
       "103900   73097   49           0            2347             4   \n",
       "103901   68825   30           0            1995             1   \n",
       "103902   54173   22           1            1000             1   \n",
       "103903   62567   27           0            1723             1   \n",
       "\n",
       "        open_close_time_convenient  easy_of_online_shopping  store_location  \\\n",
       "0                                4                        3               1   \n",
       "1                                2                        3               3   \n",
       "2                                2                        2               2   \n",
       "3                                5                        5               5   \n",
       "4                                3                        3               3   \n",
       "...                            ...                      ...             ...   \n",
       "103899                           1                        2               3   \n",
       "103900                           4                        4               4   \n",
       "103901                           1                        1               3   \n",
       "103902                           1                        1               5   \n",
       "103903                           3                        3               3   \n",
       "\n",
       "        toilet_cleaning  dressing_room  ...  cleanliness  \\\n",
       "0                     5              3  ...            5   \n",
       "1                     1              3  ...            1   \n",
       "2                     5              5  ...            5   \n",
       "3                     2              2  ...            2   \n",
       "4                     4              5  ...            3   \n",
       "...                 ...            ...  ...          ...   \n",
       "103899                2              2  ...            2   \n",
       "103900                2              4  ...            4   \n",
       "103901                4              1  ...            4   \n",
       "103902                1              1  ...            1   \n",
       "103903                1              1  ...            1   \n",
       "\n",
       "        carrier_delay_in_minutes  delivery_delay_in_minutes  satisfaction  \\\n",
       "0                             25                         18             0   \n",
       "1                              1                          6             0   \n",
       "2                              0                          0             1   \n",
       "3                             11                          9             0   \n",
       "4                              0                          0             1   \n",
       "...                          ...                        ...           ...   \n",
       "103899                         3                          0             0   \n",
       "103900                         0                          0             1   \n",
       "103901                         7                         14             0   \n",
       "103902                         0                          0             0   \n",
       "103903                         0                          0             0   \n",
       "\n",
       "        gender_Female  gender_Male  customer_Type_Loyal Customer  \\\n",
       "0                   0            1                             1   \n",
       "1                   0            1                             0   \n",
       "2                   1            0                             1   \n",
       "3                   1            0                             1   \n",
       "4                   0            1                             1   \n",
       "...               ...          ...                           ...   \n",
       "103899              1            0                             0   \n",
       "103900              0            1                             1   \n",
       "103901              0            1                             0   \n",
       "103902              1            0                             0   \n",
       "103903              0            1                             1   \n",
       "\n",
       "        customer_Type_disloyal Customer  type_of_purchase_Gift  \\\n",
       "0                                     0                      0   \n",
       "1                                     1                      1   \n",
       "2                                     0                      1   \n",
       "3                                     0                      1   \n",
       "4                                     0                      1   \n",
       "...                                 ...                    ...   \n",
       "103899                                1                      1   \n",
       "103900                                0                      1   \n",
       "103901                                1                      1   \n",
       "103902                                1                      1   \n",
       "103903                                0                      1   \n",
       "\n",
       "        type_of_purchase_Personal  \n",
       "0                               1  \n",
       "1                               0  \n",
       "2                               0  \n",
       "3                               0  \n",
       "4                               0  \n",
       "...                           ...  \n",
       "103899                          0  \n",
       "103900                          0  \n",
       "103901                          0  \n",
       "103902                          0  \n",
       "103903                          0  \n",
       "\n",
       "[103904 rows x 27 columns]"
      ]
     },
     "execution_count": 32,
     "metadata": {},
     "output_type": "execute_result"
    }
   ],
   "source": [
    "df7"
   ]
  },
  {
   "cell_type": "markdown",
   "metadata": {
    "id": "EsWQJ9W-1H6_"
   },
   "source": [
    "## 7.0 - Separa Treino em Teste"
   ]
  },
  {
   "cell_type": "code",
   "execution_count": 33,
   "metadata": {
    "ExecuteTime": {
     "end_time": "2023-08-26T14:12:09.227983Z",
     "start_time": "2023-08-26T14:12:09.166242Z"
    },
    "id": "WbplSAMPvD5Y"
   },
   "outputs": [],
   "source": [
    "# separar dados de treino e teste\n",
    "X = df7.drop( 'satisfaction', axis = 1 ) # treino\n",
    "y = df7['satisfaction'] # teste\n",
    "\n",
    "X_train, X_test, y_train, y_test = train_test_split(X, y, test_size=0.2, random_state=42)\n"
   ]
  },
  {
   "cell_type": "markdown",
   "metadata": {
    "id": "BW5E9Et11Rzg"
   },
   "source": [
    "## 7.1 - Treino Logistic Regression"
   ]
  },
  {
   "cell_type": "code",
   "execution_count": 34,
   "metadata": {
    "ExecuteTime": {
     "end_time": "2023-08-26T14:12:10.243099Z",
     "start_time": "2023-08-26T14:12:09.230513Z"
    },
    "id": "Dg9TP5je1eD2"
   },
   "outputs": [
    {
     "name": "stderr",
     "output_type": "stream",
     "text": [
      "C:\\Users\\oscar\\anaconda3\\lib\\site-packages\\sklearn\\linear_model\\_logistic.py:814: ConvergenceWarning: lbfgs failed to converge (status=1):\n",
      "STOP: TOTAL NO. of ITERATIONS REACHED LIMIT.\n",
      "\n",
      "Increase the number of iterations (max_iter) or scale the data as shown in:\n",
      "    https://scikit-learn.org/stable/modules/preprocessing.html\n",
      "Please also refer to the documentation for alternative solver options:\n",
      "    https://scikit-learn.org/stable/modules/linear_model.html#logistic-regression\n",
      "  n_iter_i = _check_optimize_result(\n"
     ]
    }
   ],
   "source": [
    "# instancia modelo\n",
    "lr = LogisticRegression()\n",
    "\n",
    "# treino modelo\n",
    "lr.fit( X_train , y_train )\n",
    "\n",
    "# previsao\n",
    "y_pred = lr.predict( X_test )\n"
   ]
  },
  {
   "cell_type": "code",
   "execution_count": 35,
   "metadata": {
    "ExecuteTime": {
     "end_time": "2023-08-26T14:12:10.274014Z",
     "start_time": "2023-08-26T14:12:10.247089Z"
    },
    "colab": {
     "base_uri": "https://localhost:8080/"
    },
    "id": "7rJb6HG_3sFQ",
    "outputId": "57ee5a47-9d66-49de-8f9e-e7c4f4ba6780"
   },
   "outputs": [
    {
     "data": {
      "text/plain": [
       "0.721043260670805"
      ]
     },
     "execution_count": 35,
     "metadata": {},
     "output_type": "execute_result"
    }
   ],
   "source": [
    "# acuracia\n",
    "acuracia = accuracy_score( y_test , y_pred)\n",
    "acuracia"
   ]
  },
  {
   "cell_type": "code",
   "execution_count": 36,
   "metadata": {
    "ExecuteTime": {
     "end_time": "2023-08-26T14:12:10.289973Z",
     "start_time": "2023-08-26T14:12:10.277009Z"
    }
   },
   "outputs": [
    {
     "data": {
      "text/plain": [
       "array([[8256, 3457],\n",
       "       [2340, 6728]], dtype=int64)"
      ]
     },
     "execution_count": 36,
     "metadata": {},
     "output_type": "execute_result"
    }
   ],
   "source": [
    "# cm\n",
    "cm = confusion_matrix(y_test, y_pred )\n",
    "cm"
   ]
  },
  {
   "cell_type": "code",
   "execution_count": 37,
   "metadata": {
    "ExecuteTime": {
     "end_time": "2023-08-26T14:12:10.320926Z",
     "start_time": "2023-08-26T14:12:10.293963Z"
    }
   },
   "outputs": [
    {
     "data": {
      "text/plain": [
       "9068"
      ]
     },
     "execution_count": 37,
     "metadata": {},
     "output_type": "execute_result"
    }
   ],
   "source": [
    "lista = y_test.tolist()\n",
    "lista = [1 for elemento in lista if elemento == 1]\n",
    "len(lista)"
   ]
  },
  {
   "cell_type": "code",
   "execution_count": 38,
   "metadata": {
    "ExecuteTime": {
     "end_time": "2023-08-26T14:12:10.351335Z",
     "start_time": "2023-08-26T14:12:10.323887Z"
    }
   },
   "outputs": [
    {
     "data": {
      "text/plain": [
       "0    0.566667\n",
       "1    0.433333\n",
       "Name: satisfaction, dtype: float64"
      ]
     },
     "execution_count": 38,
     "metadata": {},
     "output_type": "execute_result"
    }
   ],
   "source": [
    "y.value_counts( normalize = True )"
   ]
  },
  {
   "cell_type": "markdown",
   "metadata": {
    "id": "fW58jNQr31WO"
   },
   "source": [
    "## 7.2 - Decision Tree"
   ]
  },
  {
   "cell_type": "code",
   "execution_count": 39,
   "metadata": {
    "ExecuteTime": {
     "end_time": "2023-08-26T14:12:11.067534Z",
     "start_time": "2023-08-26T14:12:10.354325Z"
    },
    "id": "w4eL37tu36vW"
   },
   "outputs": [],
   "source": [
    "# instancia modelo\n",
    "dt = DecisionTreeClassifier()\n",
    "\n",
    "# treina o modelo\n",
    "dt.fit(X_train, y_train)\n",
    "\n",
    "# previsao\n",
    "y_pred = dt.predict( X_test )"
   ]
  },
  {
   "cell_type": "code",
   "execution_count": 40,
   "metadata": {
    "ExecuteTime": {
     "end_time": "2023-08-26T14:12:11.083611Z",
     "start_time": "2023-08-26T14:12:11.069538Z"
    },
    "id": "fc0Bic-W9qZe"
   },
   "outputs": [
    {
     "data": {
      "text/plain": [
       "0.9472595159039507"
      ]
     },
     "execution_count": 40,
     "metadata": {},
     "output_type": "execute_result"
    }
   ],
   "source": [
    "# acuracia\n",
    "acuracia = accuracy_score( y_test, y_pred)\n",
    "acuracia"
   ]
  },
  {
   "cell_type": "code",
   "execution_count": 41,
   "metadata": {
    "ExecuteTime": {
     "end_time": "2023-08-26T14:12:11.130723Z",
     "start_time": "2023-08-26T14:12:11.087552Z"
    }
   },
   "outputs": [
    {
     "data": {
      "text/plain": [
       "array([[11160,   553],\n",
       "       [  543,  8525]], dtype=int64)"
      ]
     },
     "execution_count": 41,
     "metadata": {},
     "output_type": "execute_result"
    }
   ],
   "source": [
    "# cm\n",
    "cm = confusion_matrix(y_test, y_pred )\n",
    "cm"
   ]
  },
  {
   "cell_type": "markdown",
   "metadata": {
    "id": "GkqRYwio5XKW"
   },
   "source": [
    "## 7.3 - Random Forest\n"
   ]
  },
  {
   "cell_type": "code",
   "execution_count": 42,
   "metadata": {
    "ExecuteTime": {
     "end_time": "2023-08-26T14:12:22.912838Z",
     "start_time": "2023-08-26T14:12:11.132749Z"
    },
    "id": "dFGZCAWD5b9G"
   },
   "outputs": [],
   "source": [
    "# instancia modelo\n",
    "rf = RandomForestClassifier()\n",
    "\n",
    "# treina o modelo\n",
    "rf.fit(X_train, y_train)\n",
    "\n",
    "# previsao\n",
    "y_pred = rf.predict( X_test )"
   ]
  },
  {
   "cell_type": "code",
   "execution_count": 43,
   "metadata": {
    "ExecuteTime": {
     "end_time": "2023-08-26T14:12:22.928807Z",
     "start_time": "2023-08-26T14:12:22.914842Z"
    },
    "id": "R5J8f5WR9rOF"
   },
   "outputs": [
    {
     "data": {
      "text/plain": [
       "0.9654973292911795"
      ]
     },
     "execution_count": 43,
     "metadata": {},
     "output_type": "execute_result"
    }
   ],
   "source": [
    "# acuracia\n",
    "acuracia = accuracy_score( y_test, y_pred)\n",
    "acuracia"
   ]
  },
  {
   "cell_type": "code",
   "execution_count": 44,
   "metadata": {
    "ExecuteTime": {
     "end_time": "2023-08-26T14:12:22.944077Z",
     "start_time": "2023-08-26T14:12:22.931811Z"
    }
   },
   "outputs": [
    {
     "data": {
      "text/plain": [
       "array([[11507,   206],\n",
       "       [  511,  8557]], dtype=int64)"
      ]
     },
     "execution_count": 44,
     "metadata": {},
     "output_type": "execute_result"
    }
   ],
   "source": [
    "# cm\n",
    "cm = confusion_matrix(y_test, y_pred )\n",
    "cm"
   ]
  },
  {
   "cell_type": "markdown",
   "metadata": {
    "id": "l52en9wHvEQ5"
   },
   "source": [
    "# 8.0. - PASSO 08 - HYPERPARAMETER FINE TUNING"
   ]
  },
  {
   "cell_type": "code",
   "execution_count": null,
   "metadata": {
    "id": "zPPh8mSmvFQo"
   },
   "outputs": [],
   "source": []
  },
  {
   "cell_type": "code",
   "execution_count": null,
   "metadata": {
    "id": "3EAgh0CQvG_4"
   },
   "outputs": [],
   "source": []
  },
  {
   "cell_type": "markdown",
   "metadata": {
    "id": "OEfacKZ1vHcY"
   },
   "source": [
    "# 9.0. - PASSO 09 - TRADUÇÃO E INTERPRETAÇÃO DO ERRO"
   ]
  },
  {
   "cell_type": "code",
   "execution_count": 45,
   "metadata": {
    "ExecuteTime": {
     "end_time": "2023-08-26T14:12:22.960039Z",
     "start_time": "2023-08-26T14:12:22.946036Z"
    },
    "id": "vxEFaLx_vHzo"
   },
   "outputs": [],
   "source": [
    "# função pra avaliar o modelo\n",
    "def evaluate_models(models, X_test, y_test):\n",
    "    # Criação do DataFrame vazio\n",
    "    df = pd.DataFrame(columns=['Modelo', 'Precision', 'Recall', 'F1-score'])\n",
    "\n",
    "    # Loop sobre os modelos\n",
    "    for model in models:\n",
    "        # Previsões\n",
    "        y_pred = model.predict(X_test)\n",
    "\n",
    "        # Cálculo das métricas\n",
    "        precision = precision_score(y_test, y_pred,pos_label = 1)\n",
    "        recall = recall_score(y_test, y_pred)\n",
    "        acuracia = accuracy_score( y_test, y_pred)\n",
    "        f1 = f1_score(y_test, y_pred)\n",
    "\n",
    "        # Adição dos resultados ao DataFrame\n",
    "        df = df.append({'Modelo': model, 'Precision': precision, 'Recall': recall, 'F1-score': f1, 'acuracia' : acuracia },\n",
    "                       ignore_index=True)\n",
    "\n",
    "    return df"
   ]
  },
  {
   "cell_type": "code",
   "execution_count": 46,
   "metadata": {
    "ExecuteTime": {
     "end_time": "2023-08-26T14:12:23.544654Z",
     "start_time": "2023-08-26T14:12:22.961547Z"
    }
   },
   "outputs": [
    {
     "name": "stderr",
     "output_type": "stream",
     "text": [
      "C:\\Users\\oscar\\AppData\\Local\\Temp\\ipykernel_9816\\3469814399.py:18: FutureWarning: The frame.append method is deprecated and will be removed from pandas in a future version. Use pandas.concat instead.\n",
      "  df = df.append({'Modelo': model, 'Precision': precision, 'Recall': recall, 'F1-score': f1, 'acuracia' : acuracia },\n",
      "C:\\Users\\oscar\\AppData\\Local\\Temp\\ipykernel_9816\\3469814399.py:18: FutureWarning: The frame.append method is deprecated and will be removed from pandas in a future version. Use pandas.concat instead.\n",
      "  df = df.append({'Modelo': model, 'Precision': precision, 'Recall': recall, 'F1-score': f1, 'acuracia' : acuracia },\n",
      "C:\\Users\\oscar\\AppData\\Local\\Temp\\ipykernel_9816\\3469814399.py:18: FutureWarning: The frame.append method is deprecated and will be removed from pandas in a future version. Use pandas.concat instead.\n",
      "  df = df.append({'Modelo': model, 'Precision': precision, 'Recall': recall, 'F1-score': f1, 'acuracia' : acuracia },\n"
     ]
    },
    {
     "data": {
      "text/html": [
       "<div>\n",
       "<style scoped>\n",
       "    .dataframe tbody tr th:only-of-type {\n",
       "        vertical-align: middle;\n",
       "    }\n",
       "\n",
       "    .dataframe tbody tr th {\n",
       "        vertical-align: top;\n",
       "    }\n",
       "\n",
       "    .dataframe thead th {\n",
       "        text-align: right;\n",
       "    }\n",
       "</style>\n",
       "<table border=\"1\" class=\"dataframe\">\n",
       "  <thead>\n",
       "    <tr style=\"text-align: right;\">\n",
       "      <th></th>\n",
       "      <th>Modelo</th>\n",
       "      <th>Precision</th>\n",
       "      <th>Recall</th>\n",
       "      <th>F1-score</th>\n",
       "      <th>acuracia</th>\n",
       "    </tr>\n",
       "  </thead>\n",
       "  <tbody>\n",
       "    <tr>\n",
       "      <th>0</th>\n",
       "      <td>LogisticRegression()</td>\n",
       "      <td>0.660579</td>\n",
       "      <td>0.741950</td>\n",
       "      <td>0.698904</td>\n",
       "      <td>0.721043</td>\n",
       "    </tr>\n",
       "    <tr>\n",
       "      <th>1</th>\n",
       "      <td>DecisionTreeClassifier()</td>\n",
       "      <td>0.939083</td>\n",
       "      <td>0.940119</td>\n",
       "      <td>0.939601</td>\n",
       "      <td>0.947260</td>\n",
       "    </tr>\n",
       "    <tr>\n",
       "      <th>2</th>\n",
       "      <td>(DecisionTreeClassifier(max_features='auto', r...</td>\n",
       "      <td>0.976492</td>\n",
       "      <td>0.943648</td>\n",
       "      <td>0.959789</td>\n",
       "      <td>0.965497</td>\n",
       "    </tr>\n",
       "  </tbody>\n",
       "</table>\n",
       "</div>"
      ],
      "text/plain": [
       "                                              Modelo  Precision    Recall  \\\n",
       "0                               LogisticRegression()   0.660579  0.741950   \n",
       "1                           DecisionTreeClassifier()   0.939083  0.940119   \n",
       "2  (DecisionTreeClassifier(max_features='auto', r...   0.976492  0.943648   \n",
       "\n",
       "   F1-score  acuracia  \n",
       "0  0.698904  0.721043  \n",
       "1  0.939601  0.947260  \n",
       "2  0.959789  0.965497  "
      ]
     },
     "execution_count": 46,
     "metadata": {},
     "output_type": "execute_result"
    }
   ],
   "source": [
    "# avaliando os modelos\n",
    "modelos = [lr , dt , rf]\n",
    "evaluate_models( modelos , X_test ,  y_test)"
   ]
  },
  {
   "cell_type": "markdown",
   "metadata": {
    "id": "_JiBpgjf7PFw"
   },
   "source": [
    "# 10.0 - Submission"
   ]
  },
  {
   "cell_type": "code",
   "execution_count": 47,
   "metadata": {
    "ExecuteTime": {
     "end_time": "2023-08-26T14:12:23.560612Z",
     "start_time": "2023-08-26T14:12:23.546658Z"
    }
   },
   "outputs": [
    {
     "data": {
      "text/plain": [
       "(25976, 23)"
      ]
     },
     "execution_count": 47,
     "metadata": {},
     "output_type": "execute_result"
    }
   ],
   "source": [
    "df_test.shape"
   ]
  },
  {
   "cell_type": "code",
   "execution_count": 48,
   "metadata": {
    "ExecuteTime": {
     "end_time": "2023-08-26T14:12:23.576125Z",
     "start_time": "2023-08-26T14:12:23.563118Z"
    }
   },
   "outputs": [],
   "source": [
    "def tratar_df_test( df ):\n",
    "    \n",
    "    cols_old = ['id', 'Gender', 'Customer Type', 'Age', 'Type of Purchase',\n",
    "               'Store size', 'Store distance', 'InStore wifi',\n",
    "               'Open/Close time convenient', 'Easy of online shopping',\n",
    "               'Store location', 'Toilet cleaning', 'Dressing room', 'Waiting room',\n",
    "               'Kids entertainment', 'Seller service', 'Showroom ', 'Self-Store',\n",
    "               'Purchase service', 'Store Service', 'Cleanliness',\n",
    "               'Carrier delay in minutes', 'Delivery delay in minutes']\n",
    "    # coloco as colunas no estilo snake_case\n",
    "    snake_case = lambda x : inflection.underscore(x) # defino a lambda function\n",
    "\n",
    "    # aplico o map para cada nome cols_old e crio a lista cols_new\n",
    "    cols_new = list( map( snake_case, cols_old ) )\n",
    "\n",
    "    # renomeio as coluanas do dataset\n",
    "    df.columns = cols_new\n",
    "\n",
    "    #Normatizando o nome das colunas\n",
    "    df.columns = [ 'id','gender','customer_Type','age','type_of_purchase','store_size',\n",
    "                    'store_distance','inStore_wifi', 'open_close_time_convenient',\n",
    "                    'easy_of_online_shopping','store_location','toilet_cleaning',\n",
    "                    'dressing_room','waiting_room','kids_entertainment','seller_service',\n",
    "                    'showroom','self_Store', 'purchase_service','store_service',\n",
    "                    'cleanliness','carrier_delay_in_minutes','delivery_delay_in_minutes',\n",
    "                    ]\n",
    "\n",
    "    # preencho os na em carrier_delay_in_minutes\n",
    "    valor_medio = int( df['delivery_delay_in_minutes'].mean() )\n",
    "    df['delivery_delay_in_minutes'] = df['delivery_delay_in_minutes'].fillna( valor_medio )\n",
    "     \n",
    "    # mudo o tipo em delivery_delay_in_minutes\n",
    "    #df['delivery_delay_in_minutes'] = df['delivery_delay_in_minutes'].astype( int ) \n",
    "    df['delivery_delay_in_minutes'] = df['delivery_delay_in_minutes'].astype( 'Int64' )\n",
    "     \n",
    "        # one hot encoding gender\n",
    "    df = pd.get_dummies(df, columns=['gender'])\n",
    "\n",
    "    # one hot encoding customer_Type\n",
    "    df = pd.get_dummies(df, columns=['customer_Type'])\n",
    "\n",
    "    # one hot encoding customer_Type\n",
    "    df = pd.get_dummies(df, columns=['type_of_purchase'])\n",
    "\n",
    "    # label encoder\n",
    "    label_encoder = LabelEncoder()\n",
    "    df['store_size'] = label_encoder.fit_transform(df['store_size'])\n",
    "\n",
    "    \n",
    "    return df\n"
   ]
  },
  {
   "cell_type": "code",
   "execution_count": 49,
   "metadata": {
    "ExecuteTime": {
     "end_time": "2023-08-26T14:12:24.112174Z",
     "start_time": "2023-08-26T14:12:23.579080Z"
    }
   },
   "outputs": [],
   "source": [
    "# trato os dados de teste do kaggle\n",
    "df_submission = tratar_df_test( df_test )\n",
    "\n",
    "# predict\n",
    "y_pred_sb = rf.predict( df_submission )\n",
    "\n",
    "df_submission['Satisfaction'] = y_pred_sb"
   ]
  },
  {
   "cell_type": "code",
   "execution_count": 50,
   "metadata": {
    "ExecuteTime": {
     "end_time": "2023-08-26T14:12:24.190892Z",
     "start_time": "2023-08-26T14:12:24.114177Z"
    }
   },
   "outputs": [],
   "source": [
    "df_submission[['id','Satisfaction']].to_csv( 'submission_v1.csv', index = False )"
   ]
  }
 ],
 "metadata": {
  "colab": {
   "provenance": []
  },
  "kernelspec": {
   "display_name": "Python 3 (ipykernel)",
   "language": "python",
   "name": "python3"
  },
  "language_info": {
   "codemirror_mode": {
    "name": "ipython",
    "version": 3
   },
   "file_extension": ".py",
   "mimetype": "text/x-python",
   "name": "python",
   "nbconvert_exporter": "python",
   "pygments_lexer": "ipython3",
   "version": "3.9.13"
  }
 },
 "nbformat": 4,
 "nbformat_minor": 1
}
